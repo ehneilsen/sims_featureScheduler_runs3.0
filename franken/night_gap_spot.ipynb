{
 "cells": [
  {
   "cell_type": "code",
   "execution_count": 1,
   "id": "f4a4b0c6",
   "metadata": {},
   "outputs": [],
   "source": [
    "import numpy as np\n",
    "import matplotlib.pylab as plt\n",
    "%matplotlib inline\n",
    "import rubin_sim.maf as maf\n",
    "import healpy as hp\n"
   ]
  },
  {
   "cell_type": "code",
   "execution_count": 2,
   "id": "919c3114",
   "metadata": {},
   "outputs": [],
   "source": [
    "filename = 'franken_v2.99_10yrs.db'\n",
    "run_name = filename.replace('.db', '')\n"
   ]
  },
  {
   "cell_type": "code",
   "execution_count": 3,
   "id": "9d385505",
   "metadata": {},
   "outputs": [],
   "source": [
    "\n",
    "sql =\"note not like '%NEO%' and filter='r'\"\n",
    "metric = maf.PassMetric(cols=['night'])\n",
    "slicer = maf.UserPointsSlicer(ra=0, dec=-20)\n",
    "\n",
    "bundle_list = [maf.MetricBundle(metric, slicer, sql, run_name=run_name)]\n",
    "bundle_dict = maf.make_bundles_dict_from_list(bundle_list)"
   ]
  },
  {
   "cell_type": "code",
   "execution_count": 4,
   "id": "637af2a1",
   "metadata": {},
   "outputs": [],
   "source": [
    "bg = maf.MetricBundleGroup(bundle_dict, filename, out_dir='temp',results_db=None)\n",
    "bg.run_all()\n"
   ]
  },
  {
   "cell_type": "code",
   "execution_count": 5,
   "id": "52cdb4d1",
   "metadata": {},
   "outputs": [],
   "source": [
    "ack = np.sort(bundle_list[0].metric_values[0]['night'])"
   ]
  },
  {
   "cell_type": "code",
   "execution_count": 6,
   "id": "a9af4352",
   "metadata": {},
   "outputs": [
    {
     "data": {
      "text/plain": [
       "167"
      ]
     },
     "execution_count": 6,
     "metadata": {},
     "output_type": "execute_result"
    }
   ],
   "source": [
    "ack.size"
   ]
  },
  {
   "cell_type": "code",
   "execution_count": 7,
   "id": "a4f6a2ab",
   "metadata": {},
   "outputs": [
    {
     "data": {
      "text/plain": [
       "Text(0, 0.5, 'N times')"
      ]
     },
     "execution_count": 7,
     "metadata": {},
     "output_type": "execute_result"
    },
    {
     "data": {
      "image/png": "[encoded data removed]",
      "text/plain": [
       "<Figure size 640x480 with 1 Axes>"
      ]
     },
     "metadata": {},
     "output_type": "display_data"
    }
   ],
   "source": [
    "plt.hist(np.diff(np.unique(ack)), bins=np.arange(30)-0.5)\n",
    "plt.xlabel('night gap')\n",
    "plt.ylabel('N times')"
   ]
  },
  {
   "cell_type": "code",
   "execution_count": 8,
   "id": "aab49be7",
   "metadata": {},
   "outputs": [
    {
     "data": {
      "text/plain": [
       "array([  3,  11,  44, 181,  58,  25,  10,   7,  10,   7,   4,   7,  14,\n",
       "         2,   4,  23,   5,   1,   5, 214,  13,   2,   5,  22,   5,   5,\n",
       "        10,   1,   7,   3,   1,  10,   5,   8,   5,   1,   1,   3,  25,\n",
       "         1,   2,   1, 301,   2,  19,  23,  13, 256,   6,   2,   7,   8,\n",
       "         7,   6,   1,   6,  15,   5,   2,   1,   2,   9,  11,   3,  26,\n",
       "         3,   2,   5,   3,  15,  14, 141,  32,  88,  30, 278,  10,   2,\n",
       "         4,   1,   5,  18,   2,   4,   9,  18,   4,   4,  15,   3,   6,\n",
       "         6,  17,   1,   5,   4,  10,  12, 123,  96,  18,  16,   7,   7,\n",
       "        20, 290,  22,   2,  16,   2,   1,   1,   6,   4,  19,   8,   4,\n",
       "        12,  11,  22,   9,   2,   5, 282,  13,  17, 278,   4,   9,   3,\n",
       "         5,   2,   3,  13,   4,  15])"
      ]
     },
     "execution_count": 8,
     "metadata": {},
     "output_type": "execute_result"
    }
   ],
   "source": [
    "np.diff(np.unique(ack))"
   ]
  },
  {
   "cell_type": "code",
   "execution_count": null,
   "id": "c85ee137",
   "metadata": {},
   "outputs": [],
   "source": []
  }
 ],
 "metadata": {
  "kernelspec": {
   "display_name": "Python 3 (ipykernel)",
   "language": "python",
   "name": "python3"
  },
  "language_info": {
   "codemirror_mode": {
    "name": "ipython",
    "version": 3
   },
   "file_extension": ".py",
   "mimetype": "text/x-python",
   "name": "python",
   "nbconvert_exporter": "python",
   "pygments_lexer": "ipython3",
   "version": "3.8.13"
  }
 },
 "nbformat": 4,
 "nbformat_minor": 5
}
